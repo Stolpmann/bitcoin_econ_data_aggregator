{
 "cells": [
  {
   "cell_type": "code",
   "execution_count": 2,
   "metadata": {},
   "outputs": [],
   "source": [
    "import pandas as pd\n",
    "pd.set_option('display.max_colwidth', None)\n",
    "import numpy as np"
   ]
  },
  {
   "cell_type": "markdown",
   "metadata": {},
   "source": [
    "# Supply"
   ]
  },
  {
   "cell_type": "code",
   "execution_count": 3,
   "metadata": {},
   "outputs": [
    {
     "data": {
      "text/html": [
       "<div>\n",
       "<style scoped>\n",
       "    .dataframe tbody tr th:only-of-type {\n",
       "        vertical-align: middle;\n",
       "    }\n",
       "\n",
       "    .dataframe tbody tr th {\n",
       "        vertical-align: top;\n",
       "    }\n",
       "\n",
       "    .dataframe thead th {\n",
       "        text-align: right;\n",
       "    }\n",
       "</style>\n",
       "<table border=\"1\" class=\"dataframe\">\n",
       "  <thead>\n",
       "    <tr style=\"text-align: right;\">\n",
       "      <th></th>\n",
       "      <th>0</th>\n",
       "    </tr>\n",
       "  </thead>\n",
       "  <tbody>\n",
       "    <tr>\n",
       "      <th>1</th>\n",
       "      <td>\"height\": 746861,\\n</td>\n",
       "    </tr>\n",
       "    <tr>\n",
       "      <th>2</th>\n",
       "      <td>\"bestblock\": \"00000000000000000007d3b83149c88ca7de0c507b8adf9b3add11a936ab5595\",\\n</td>\n",
       "    </tr>\n",
       "    <tr>\n",
       "      <th>3</th>\n",
       "      <td>\"txouts\": 83297354,\\n</td>\n",
       "    </tr>\n",
       "    <tr>\n",
       "      <th>4</th>\n",
       "      <td>\"bogosize\": 6215265292,\\n</td>\n",
       "    </tr>\n",
       "    <tr>\n",
       "      <th>5</th>\n",
       "      <td>\"hash_serialized_2\": \"97b683d1329e97a8bca8f3b45a8cdfedd87d630abe0db44cfe2e14a4eb76f8c4\",\\n</td>\n",
       "    </tr>\n",
       "    <tr>\n",
       "      <th>6</th>\n",
       "      <td>\"total_amount\": 19105173.42766644,\\n</td>\n",
       "    </tr>\n",
       "    <tr>\n",
       "      <th>7</th>\n",
       "      <td>\"transactions\": 49615187,\\n</td>\n",
       "    </tr>\n",
       "    <tr>\n",
       "      <th>8</th>\n",
       "      <td>\"disk_size\": 5048540635\\n</td>\n",
       "    </tr>\n",
       "    <tr>\n",
       "      <th>9</th>\n",
       "      <td>}\\n</td>\n",
       "    </tr>\n",
       "  </tbody>\n",
       "</table>\n",
       "</div>"
      ],
      "text/plain": [
       "                                                                                              0\n",
       "1                                                                           \"height\": 746861,\\n\n",
       "2            \"bestblock\": \"00000000000000000007d3b83149c88ca7de0c507b8adf9b3add11a936ab5595\",\\n\n",
       "3                                                                         \"txouts\": 83297354,\\n\n",
       "4                                                                     \"bogosize\": 6215265292,\\n\n",
       "5    \"hash_serialized_2\": \"97b683d1329e97a8bca8f3b45a8cdfedd87d630abe0db44cfe2e14a4eb76f8c4\",\\n\n",
       "6                                                          \"total_amount\": 19105173.42766644,\\n\n",
       "7                                                                   \"transactions\": 49615187,\\n\n",
       "8                                                                     \"disk_size\": 5048540635\\n\n",
       "9                                                                                           }\\n"
      ]
     },
     "execution_count": 3,
     "metadata": {},
     "output_type": "execute_result"
    }
   ],
   "source": [
    "supply = pd.read_csv(\"csv/supply.csv\")\n",
    "supply = supply.iloc[1: , 1:]\n",
    "supply"
   ]
  },
  {
   "cell_type": "code",
   "execution_count": 4,
   "metadata": {
    "scrolled": true
   },
   "outputs": [
    {
     "data": {
      "text/html": [
       "<div>\n",
       "<style scoped>\n",
       "    .dataframe tbody tr th:only-of-type {\n",
       "        vertical-align: middle;\n",
       "    }\n",
       "\n",
       "    .dataframe tbody tr th {\n",
       "        vertical-align: top;\n",
       "    }\n",
       "\n",
       "    .dataframe thead th {\n",
       "        text-align: right;\n",
       "    }\n",
       "</style>\n",
       "<table border=\"1\" class=\"dataframe\">\n",
       "  <thead>\n",
       "    <tr style=\"text-align: right;\">\n",
       "      <th></th>\n",
       "      <th>height</th>\n",
       "      <th>best_block</th>\n",
       "      <th>tx_outs</th>\n",
       "      <th>bogosize</th>\n",
       "      <th>hash_serialized_2</th>\n",
       "      <th>total_amount</th>\n",
       "      <th>transactions</th>\n",
       "      <th>disk_size</th>\n",
       "    </tr>\n",
       "  </thead>\n",
       "  <tbody>\n",
       "    <tr>\n",
       "      <th>0</th>\n",
       "      <td>\"height\": 746861,\\n</td>\n",
       "      <td>\"bestblock\": \"00000000000000000007d3b83149c88ca7de0c507b8adf9b3add11a936ab5595\",\\n</td>\n",
       "      <td>\"txouts\": 83297354,\\n</td>\n",
       "      <td>\"bogosize\": 6215265292,\\n</td>\n",
       "      <td>\"hash_serialized_2\": \"97b683d1329e97a8bca8f3b45a8cdfedd87d630abe0db44cfe2e14a4eb76f8c4\",\\n</td>\n",
       "      <td>\"total_amount\": 19105173.42766644,\\n</td>\n",
       "      <td>\"transactions\": 49615187,\\n</td>\n",
       "      <td>\"disk_size\": 5048540635\\n</td>\n",
       "    </tr>\n",
       "  </tbody>\n",
       "</table>\n",
       "</div>"
      ],
      "text/plain": [
       "                  height  \\\n",
       "0    \"height\": 746861,\\n   \n",
       "\n",
       "                                                                             best_block  \\\n",
       "0    \"bestblock\": \"00000000000000000007d3b83149c88ca7de0c507b8adf9b3add11a936ab5595\",\\n   \n",
       "\n",
       "                   tx_outs                     bogosize  \\\n",
       "0    \"txouts\": 83297354,\\n    \"bogosize\": 6215265292,\\n   \n",
       "\n",
       "                                                                              hash_serialized_2  \\\n",
       "0    \"hash_serialized_2\": \"97b683d1329e97a8bca8f3b45a8cdfedd87d630abe0db44cfe2e14a4eb76f8c4\",\\n   \n",
       "\n",
       "                             total_amount                   transactions  \\\n",
       "0    \"total_amount\": 19105173.42766644,\\n    \"transactions\": 49615187,\\n   \n",
       "\n",
       "                     disk_size  \n",
       "0    \"disk_size\": 5048540635\\n  "
      ]
     },
     "execution_count": 4,
     "metadata": {},
     "output_type": "execute_result"
    }
   ],
   "source": [
    "supply = supply.iloc[:-1 , :]\n",
    "supply = supply.transpose()\n",
    "\n",
    "supply.columns = ['height', 'best_block', 'tx_outs', 'bogosize',\n",
    "                 'hash_serialized_2', 'total_amount', 'transactions', 'disk_size']\n",
    "supply"
   ]
  },
  {
   "cell_type": "code",
   "execution_count": 5,
   "metadata": {},
   "outputs": [],
   "source": [
    "supply[\"height\"] = supply[\"height\"].str.extract('(\\d+)', expand=False)\n",
    "supply[\"tx_outs\"] = supply[\"tx_outs\"].str.extract('(\\d+)', expand=False)\n",
    "supply[\"bogosize\"] = supply[\"bogosize\"].str.extract('(\\d+)', expand=False)\n",
    "supply[\"hash_serialized_2\"] = supply[\"hash_serialized_2\"].str.extract('(\\d+)', expand=False)\n",
    "supply[\"total_amount\"] = supply[\"total_amount\"].str.extract('(\\d+)', expand=False)\n",
    "supply[\"transactions\"] = supply[\"transactions\"].str.extract('(\\d+)', expand=False)\n",
    "supply[\"disk_size\"] = supply[\"disk_size\"].str.extract('(\\d+)', expand=False)"
   ]
  },
  {
   "cell_type": "code",
   "execution_count": 6,
   "metadata": {},
   "outputs": [
    {
     "data": {
      "text/html": [
       "<div>\n",
       "<style scoped>\n",
       "    .dataframe tbody tr th:only-of-type {\n",
       "        vertical-align: middle;\n",
       "    }\n",
       "\n",
       "    .dataframe tbody tr th {\n",
       "        vertical-align: top;\n",
       "    }\n",
       "\n",
       "    .dataframe thead th {\n",
       "        text-align: right;\n",
       "    }\n",
       "</style>\n",
       "<table border=\"1\" class=\"dataframe\">\n",
       "  <thead>\n",
       "    <tr style=\"text-align: right;\">\n",
       "      <th></th>\n",
       "      <th>Height</th>\n",
       "      <th>Best Block</th>\n",
       "      <th>UTXOs</th>\n",
       "      <th>bogosize</th>\n",
       "      <th>hash_serialized_2</th>\n",
       "      <th>Circulating Supply</th>\n",
       "      <th>Transactions</th>\n",
       "      <th>Disk Size</th>\n",
       "    </tr>\n",
       "  </thead>\n",
       "  <tbody>\n",
       "    <tr>\n",
       "      <th>0</th>\n",
       "      <td>746861</td>\n",
       "      <td>\"bestblock\": \"00000000000000000007d3b83149c88ca7de0c507b8adf9b3add11a936ab5595\",\\n</td>\n",
       "      <td>83297354</td>\n",
       "      <td>6215265292</td>\n",
       "      <td>2</td>\n",
       "      <td>19105173</td>\n",
       "      <td>49615187</td>\n",
       "      <td>5048540635</td>\n",
       "    </tr>\n",
       "  </tbody>\n",
       "</table>\n",
       "</div>"
      ],
      "text/plain": [
       "   Height  \\\n",
       "0  746861   \n",
       "\n",
       "                                                                             Best Block  \\\n",
       "0    \"bestblock\": \"00000000000000000007d3b83149c88ca7de0c507b8adf9b3add11a936ab5595\",\\n   \n",
       "\n",
       "      UTXOs    bogosize hash_serialized_2 Circulating Supply Transactions  \\\n",
       "0  83297354  6215265292                 2           19105173     49615187   \n",
       "\n",
       "    Disk Size  \n",
       "0  5048540635  "
      ]
     },
     "execution_count": 6,
     "metadata": {},
     "output_type": "execute_result"
    }
   ],
   "source": [
    "supply.columns = ['Height', 'Best Block', 'UTXOs', 'bogosize',\n",
    "                 'hash_serialized_2', 'Circulating Supply', 'Transactions', 'Disk Size']\n",
    "supply"
   ]
  },
  {
   "cell_type": "code",
   "execution_count": 7,
   "metadata": {},
   "outputs": [],
   "source": [
    "supply[\"Best Block\"] = supply[\"Best Block\"].str[16:-3]"
   ]
  },
  {
   "cell_type": "code",
   "execution_count": 8,
   "metadata": {},
   "outputs": [
    {
     "data": {
      "text/html": [
       "<div>\n",
       "<style scoped>\n",
       "    .dataframe tbody tr th:only-of-type {\n",
       "        vertical-align: middle;\n",
       "    }\n",
       "\n",
       "    .dataframe tbody tr th {\n",
       "        vertical-align: top;\n",
       "    }\n",
       "\n",
       "    .dataframe thead th {\n",
       "        text-align: right;\n",
       "    }\n",
       "</style>\n",
       "<table border=\"1\" class=\"dataframe\">\n",
       "  <thead>\n",
       "    <tr style=\"text-align: right;\">\n",
       "      <th></th>\n",
       "      <th>Height</th>\n",
       "      <th>Best Block</th>\n",
       "      <th>UTXOs</th>\n",
       "      <th>bogosize</th>\n",
       "      <th>hash_serialized_2</th>\n",
       "      <th>Circulating Supply</th>\n",
       "      <th>Transactions</th>\n",
       "      <th>Disk Size</th>\n",
       "      <th>Total</th>\n",
       "      <th>Issuance Remaining</th>\n",
       "    </tr>\n",
       "  </thead>\n",
       "  <tbody>\n",
       "    <tr>\n",
       "      <th>0</th>\n",
       "      <td>746861</td>\n",
       "      <td>00000000000000000007d3b83149c88ca7de0c507b8adf9b3add11a936ab5595</td>\n",
       "      <td>83297354</td>\n",
       "      <td>6215265292</td>\n",
       "      <td>2</td>\n",
       "      <td>19105173</td>\n",
       "      <td>49615187</td>\n",
       "      <td>5048540635</td>\n",
       "      <td>21000000</td>\n",
       "      <td>1894877</td>\n",
       "    </tr>\n",
       "  </tbody>\n",
       "</table>\n",
       "</div>"
      ],
      "text/plain": [
       "   Height                                                        Best Block  \\\n",
       "0  746861  00000000000000000007d3b83149c88ca7de0c507b8adf9b3add11a936ab5595   \n",
       "\n",
       "      UTXOs    bogosize hash_serialized_2 Circulating Supply Transactions  \\\n",
       "0  83297354  6215265292                 2           19105173     49615187   \n",
       "\n",
       "    Disk Size     Total  Issuance Remaining  \n",
       "0  5048540635  21000000             1894877  "
      ]
     },
     "execution_count": 8,
     "metadata": {},
     "output_type": "execute_result"
    }
   ],
   "source": [
    "total = 21000000\n",
    "supply['Total'] = total\n",
    "mined = supply['Circulating Supply']\n",
    "mined = int(mined) - 50\n",
    "issuance_remaining = total - mined\n",
    "supply['Issuance Remaining'] = issuance_remaining\n",
    "supply"
   ]
  },
  {
   "cell_type": "code",
   "execution_count": 9,
   "metadata": {},
   "outputs": [
    {
     "data": {
      "text/html": [
       "<div>\n",
       "<style scoped>\n",
       "    .dataframe tbody tr th:only-of-type {\n",
       "        vertical-align: middle;\n",
       "    }\n",
       "\n",
       "    .dataframe tbody tr th {\n",
       "        vertical-align: top;\n",
       "    }\n",
       "\n",
       "    .dataframe thead th {\n",
       "        text-align: right;\n",
       "    }\n",
       "</style>\n",
       "<table border=\"1\" class=\"dataframe\">\n",
       "  <thead>\n",
       "    <tr style=\"text-align: right;\">\n",
       "      <th></th>\n",
       "      <th>0</th>\n",
       "    </tr>\n",
       "  </thead>\n",
       "  <tbody>\n",
       "    <tr>\n",
       "      <th>Height</th>\n",
       "      <td>746861</td>\n",
       "    </tr>\n",
       "    <tr>\n",
       "      <th>UTXOs</th>\n",
       "      <td>83297354</td>\n",
       "    </tr>\n",
       "    <tr>\n",
       "      <th>Circulating Supply</th>\n",
       "      <td>19105173</td>\n",
       "    </tr>\n",
       "    <tr>\n",
       "      <th>Transactions</th>\n",
       "      <td>49615187</td>\n",
       "    </tr>\n",
       "    <tr>\n",
       "      <th>Disk Size</th>\n",
       "      <td>5048540635</td>\n",
       "    </tr>\n",
       "    <tr>\n",
       "      <th>Total</th>\n",
       "      <td>21000000</td>\n",
       "    </tr>\n",
       "    <tr>\n",
       "      <th>Issuance Remaining</th>\n",
       "      <td>1894877</td>\n",
       "    </tr>\n",
       "  </tbody>\n",
       "</table>\n",
       "</div>"
      ],
      "text/plain": [
       "                             0\n",
       "Height                  746861\n",
       "UTXOs                 83297354\n",
       "Circulating Supply    19105173\n",
       "Transactions          49615187\n",
       "Disk Size           5048540635\n",
       "Total                 21000000\n",
       "Issuance Remaining     1894877"
      ]
     },
     "execution_count": 9,
     "metadata": {},
     "output_type": "execute_result"
    }
   ],
   "source": [
    "supply = supply.drop(columns=['hash_serialized_2','bogosize','Best Block'])\n",
    "supplyt = supply.transpose()\n",
    "supplyt"
   ]
  },
  {
   "cell_type": "code",
   "execution_count": 10,
   "metadata": {},
   "outputs": [],
   "source": [
    "#supply.to_csv(\"supply_pie_data.csv\")\n",
    "supplyt.to_excel(\"supply_clean.xlsx\", header=False)"
   ]
  },
  {
   "cell_type": "markdown",
   "metadata": {},
   "source": [
    "# Chain Stats"
   ]
  },
  {
   "cell_type": "code",
   "execution_count": 11,
   "metadata": {
    "scrolled": false
   },
   "outputs": [
    {
     "data": {
      "text/html": [
       "<div>\n",
       "<style scoped>\n",
       "    .dataframe tbody tr th:only-of-type {\n",
       "        vertical-align: middle;\n",
       "    }\n",
       "\n",
       "    .dataframe tbody tr th {\n",
       "        vertical-align: top;\n",
       "    }\n",
       "\n",
       "    .dataframe thead th {\n",
       "        text-align: right;\n",
       "    }\n",
       "</style>\n",
       "<table border=\"1\" class=\"dataframe\">\n",
       "  <thead>\n",
       "    <tr style=\"text-align: right;\">\n",
       "      <th></th>\n",
       "      <th>0</th>\n",
       "    </tr>\n",
       "  </thead>\n",
       "  <tbody>\n",
       "    <tr>\n",
       "      <th>1</th>\n",
       "      <td>\"time\": 1658967585,\\n</td>\n",
       "    </tr>\n",
       "    <tr>\n",
       "      <th>2</th>\n",
       "      <td>\"txcount\": 752162205,\\n</td>\n",
       "    </tr>\n",
       "    <tr>\n",
       "      <th>3</th>\n",
       "      <td>\"window_final_block_hash\": \"00000000000000000007d3b83149c88ca7de0c507b8adf9b3add11a936ab5595\",\\n</td>\n",
       "    </tr>\n",
       "    <tr>\n",
       "      <th>4</th>\n",
       "      <td>\"window_final_block_height\": 746861,\\n</td>\n",
       "    </tr>\n",
       "    <tr>\n",
       "      <th>5</th>\n",
       "      <td>\"window_block_count\": 4320,\\n</td>\n",
       "    </tr>\n",
       "    <tr>\n",
       "      <th>6</th>\n",
       "      <td>\"window_tx_count\": 7626345,\\n</td>\n",
       "    </tr>\n",
       "    <tr>\n",
       "      <th>7</th>\n",
       "      <td>\"window_interval\": 2635936,\\n</td>\n",
       "    </tr>\n",
       "    <tr>\n",
       "      <th>8</th>\n",
       "      <td>\"txrate\": 2.893220852099596\\n</td>\n",
       "    </tr>\n",
       "  </tbody>\n",
       "</table>\n",
       "</div>"
      ],
      "text/plain": [
       "                                                                                                    0\n",
       "1                                                                               \"time\": 1658967585,\\n\n",
       "2                                                                             \"txcount\": 752162205,\\n\n",
       "3    \"window_final_block_hash\": \"00000000000000000007d3b83149c88ca7de0c507b8adf9b3add11a936ab5595\",\\n\n",
       "4                                                              \"window_final_block_height\": 746861,\\n\n",
       "5                                                                       \"window_block_count\": 4320,\\n\n",
       "6                                                                       \"window_tx_count\": 7626345,\\n\n",
       "7                                                                       \"window_interval\": 2635936,\\n\n",
       "8                                                                       \"txrate\": 2.893220852099596\\n"
      ]
     },
     "execution_count": 11,
     "metadata": {},
     "output_type": "execute_result"
    }
   ],
   "source": [
    "chain_stats = pd.read_csv(\"csv/chain_stats.csv\")\n",
    "chain_stats = chain_stats.iloc[1:9 , 1:]\n",
    "chain_stats"
   ]
  },
  {
   "cell_type": "code",
   "execution_count": 12,
   "metadata": {},
   "outputs": [
    {
     "data": {
      "text/html": [
       "<div>\n",
       "<style scoped>\n",
       "    .dataframe tbody tr th:only-of-type {\n",
       "        vertical-align: middle;\n",
       "    }\n",
       "\n",
       "    .dataframe tbody tr th {\n",
       "        vertical-align: top;\n",
       "    }\n",
       "\n",
       "    .dataframe thead th {\n",
       "        text-align: right;\n",
       "    }\n",
       "</style>\n",
       "<table border=\"1\" class=\"dataframe\">\n",
       "  <thead>\n",
       "    <tr style=\"text-align: right;\">\n",
       "      <th></th>\n",
       "      <th>time</th>\n",
       "      <th>txcount</th>\n",
       "      <th>window_final_block_hash</th>\n",
       "      <th>window_final_block_height</th>\n",
       "      <th>window_block_count</th>\n",
       "      <th>window_tx_count</th>\n",
       "      <th>window_interval</th>\n",
       "      <th>txrate</th>\n",
       "    </tr>\n",
       "  </thead>\n",
       "  <tbody>\n",
       "    <tr>\n",
       "      <th>0</th>\n",
       "      <td>\"time\": 1658967585,\\n</td>\n",
       "      <td>\"txcount\": 752162205,\\n</td>\n",
       "      <td>00000000000000000007d3b83149c88ca7de0c507b8adf9b3add11a936ab5595</td>\n",
       "      <td>\"window_final_block_height\": 746861,\\n</td>\n",
       "      <td>\"window_block_count\": 4320,\\n</td>\n",
       "      <td>\"window_tx_count\": 7626345,\\n</td>\n",
       "      <td>\"window_interval\": 2635936,\\n</td>\n",
       "      <td>\"txrate\": 2.893220852099596\\n</td>\n",
       "    </tr>\n",
       "  </tbody>\n",
       "</table>\n",
       "</div>"
      ],
      "text/plain": [
       "                      time                    txcount  \\\n",
       "0    \"time\": 1658967585,\\n    \"txcount\": 752162205,\\n   \n",
       "\n",
       "                                            window_final_block_hash  \\\n",
       "0  00000000000000000007d3b83149c88ca7de0c507b8adf9b3add11a936ab5595   \n",
       "\n",
       "                  window_final_block_height               window_block_count  \\\n",
       "0    \"window_final_block_height\": 746861,\\n    \"window_block_count\": 4320,\\n   \n",
       "\n",
       "                   window_tx_count                  window_interval  \\\n",
       "0    \"window_tx_count\": 7626345,\\n    \"window_interval\": 2635936,\\n   \n",
       "\n",
       "                            txrate  \n",
       "0    \"txrate\": 2.893220852099596\\n  "
      ]
     },
     "execution_count": 12,
     "metadata": {},
     "output_type": "execute_result"
    }
   ],
   "source": [
    "chain_stats = chain_stats.transpose()\n",
    "chain_stats\n",
    "\n",
    "\n",
    "chain_stats.columns = ['time', 'txcount', 'window_final_block_hash', 'window_final_block_height', 'window_block_count'\n",
    "                ,'window_tx_count', 'window_interval', 'txrate']\n",
    "chain_stats[\"window_final_block_hash\"] = chain_stats[\"window_final_block_hash\"].str[30:-3]\n",
    "chain_stats"
   ]
  },
  {
   "cell_type": "code",
   "execution_count": 13,
   "metadata": {},
   "outputs": [],
   "source": [
    "chain_stats[\"time\"] = chain_stats[\"time\"].str.extract('(\\d+)', expand=False)\n",
    "chain_stats[\"txcount\"] = chain_stats[\"txcount\"].str.extract('(\\d+)', expand=False)\n",
    "chain_stats[\"window_final_block_height\"] = chain_stats[\"window_final_block_height\"].str.extract('(\\d+)', expand=False)\n",
    "chain_stats[\"window_block_count\"] = chain_stats[\"window_block_count\"].str.extract('(\\d+)', expand=False)\n",
    "chain_stats[\"window_tx_count\"] = chain_stats[\"window_tx_count\"].str.extract('(\\d+)', expand=False)\n",
    "chain_stats[\"window_interval\"] = chain_stats[\"window_interval\"].str.extract('(\\d+)', expand=False)\n",
    "chain_stats[\"txrate\"] = chain_stats[\"txrate\"].str.extract('(\\d+\\.\\d*)', expand=False)"
   ]
  },
  {
   "cell_type": "code",
   "execution_count": 14,
   "metadata": {
    "scrolled": true
   },
   "outputs": [
    {
     "data": {
      "text/html": [
       "<div>\n",
       "<style scoped>\n",
       "    .dataframe tbody tr th:only-of-type {\n",
       "        vertical-align: middle;\n",
       "    }\n",
       "\n",
       "    .dataframe tbody tr th {\n",
       "        vertical-align: top;\n",
       "    }\n",
       "\n",
       "    .dataframe thead th {\n",
       "        text-align: right;\n",
       "    }\n",
       "</style>\n",
       "<table border=\"1\" class=\"dataframe\">\n",
       "  <thead>\n",
       "    <tr style=\"text-align: right;\">\n",
       "      <th></th>\n",
       "      <th>time</th>\n",
       "      <th>txcount</th>\n",
       "      <th>window_final_block_hash</th>\n",
       "      <th>window_final_block_height</th>\n",
       "      <th>window_block_count</th>\n",
       "      <th>window_tx_count</th>\n",
       "      <th>window_interval</th>\n",
       "      <th>txrate</th>\n",
       "    </tr>\n",
       "  </thead>\n",
       "  <tbody>\n",
       "    <tr>\n",
       "      <th>0</th>\n",
       "      <td>1658967585</td>\n",
       "      <td>752162205</td>\n",
       "      <td>00000000000000000007d3b83149c88ca7de0c507b8adf9b3add11a936ab5595</td>\n",
       "      <td>746861</td>\n",
       "      <td>4320</td>\n",
       "      <td>7626345</td>\n",
       "      <td>2635936</td>\n",
       "      <td>2.893220852099596</td>\n",
       "    </tr>\n",
       "  </tbody>\n",
       "</table>\n",
       "</div>"
      ],
      "text/plain": [
       "         time    txcount  \\\n",
       "0  1658967585  752162205   \n",
       "\n",
       "                                            window_final_block_hash  \\\n",
       "0  00000000000000000007d3b83149c88ca7de0c507b8adf9b3add11a936ab5595   \n",
       "\n",
       "  window_final_block_height window_block_count window_tx_count  \\\n",
       "0                    746861               4320         7626345   \n",
       "\n",
       "  window_interval             txrate  \n",
       "0         2635936  2.893220852099596  "
      ]
     },
     "execution_count": 14,
     "metadata": {},
     "output_type": "execute_result"
    }
   ],
   "source": [
    "chain_stats"
   ]
  },
  {
   "cell_type": "markdown",
   "metadata": {},
   "source": [
    "# Mining"
   ]
  },
  {
   "cell_type": "code",
   "execution_count": 15,
   "metadata": {
    "scrolled": false
   },
   "outputs": [
    {
     "data": {
      "text/html": [
       "<div>\n",
       "<style scoped>\n",
       "    .dataframe tbody tr th:only-of-type {\n",
       "        vertical-align: middle;\n",
       "    }\n",
       "\n",
       "    .dataframe tbody tr th {\n",
       "        vertical-align: top;\n",
       "    }\n",
       "\n",
       "    .dataframe thead th {\n",
       "        text-align: right;\n",
       "    }\n",
       "</style>\n",
       "<table border=\"1\" class=\"dataframe\">\n",
       "  <thead>\n",
       "    <tr style=\"text-align: right;\">\n",
       "      <th></th>\n",
       "      <th>0</th>\n",
       "    </tr>\n",
       "  </thead>\n",
       "  <tbody>\n",
       "    <tr>\n",
       "      <th>2</th>\n",
       "      <td>\"difficulty\": 27692567959233.59,\\n</td>\n",
       "    </tr>\n",
       "    <tr>\n",
       "      <th>3</th>\n",
       "      <td>\"networkhashps\": 2.204608923834834e+20,\\n</td>\n",
       "    </tr>\n",
       "    <tr>\n",
       "      <th>4</th>\n",
       "      <td>\"pooledtx\": 17030,\\n</td>\n",
       "    </tr>\n",
       "    <tr>\n",
       "      <th>5</th>\n",
       "      <td>\"chain\": \"main\",\\n</td>\n",
       "    </tr>\n",
       "  </tbody>\n",
       "</table>\n",
       "</div>"
      ],
      "text/plain": [
       "                                             0\n",
       "2           \"difficulty\": 27692567959233.59,\\n\n",
       "3    \"networkhashps\": 2.204608923834834e+20,\\n\n",
       "4                         \"pooledtx\": 17030,\\n\n",
       "5                           \"chain\": \"main\",\\n"
      ]
     },
     "execution_count": 15,
     "metadata": {},
     "output_type": "execute_result"
    }
   ],
   "source": [
    "mining = pd.read_csv(\"csv/mining.csv\")\n",
    "mining = mining.iloc[2:6 , 1:]\n",
    "mining"
   ]
  },
  {
   "cell_type": "code",
   "execution_count": 16,
   "metadata": {},
   "outputs": [
    {
     "data": {
      "text/html": [
       "<div>\n",
       "<style scoped>\n",
       "    .dataframe tbody tr th:only-of-type {\n",
       "        vertical-align: middle;\n",
       "    }\n",
       "\n",
       "    .dataframe tbody tr th {\n",
       "        vertical-align: top;\n",
       "    }\n",
       "\n",
       "    .dataframe thead th {\n",
       "        text-align: right;\n",
       "    }\n",
       "</style>\n",
       "<table border=\"1\" class=\"dataframe\">\n",
       "  <thead>\n",
       "    <tr style=\"text-align: right;\">\n",
       "      <th></th>\n",
       "      <th>difficulty</th>\n",
       "      <th>pooledtx</th>\n",
       "      <th>chain</th>\n",
       "    </tr>\n",
       "  </thead>\n",
       "  <tbody>\n",
       "    <tr>\n",
       "      <th>0</th>\n",
       "      <td>27692567959233</td>\n",
       "      <td>17030</td>\n",
       "      <td>main</td>\n",
       "    </tr>\n",
       "  </tbody>\n",
       "</table>\n",
       "</div>"
      ],
      "text/plain": [
       "       difficulty pooledtx chain\n",
       "0  27692567959233    17030  main"
      ]
     },
     "execution_count": 16,
     "metadata": {},
     "output_type": "execute_result"
    }
   ],
   "source": [
    "mining = mining.transpose()\n",
    "\n",
    "mining.columns = ['difficulty', 'networkhashps', 'pooledtx', 'chain']\n",
    "mining[\"chain\"] = mining[\"chain\"].str[12:-3]\n",
    "\n",
    "mining = mining.drop(columns='networkhashps')\n",
    "\n",
    "mining[\"difficulty\"] = mining[\"difficulty\"].str.extract('(\\d+)', expand=False)\n",
    "mining[\"pooledtx\"] = mining[\"pooledtx\"].str.extract('(\\d+)', expand=False)\n",
    "\n",
    "mining"
   ]
  },
  {
   "cell_type": "code",
   "execution_count": 17,
   "metadata": {},
   "outputs": [
    {
     "data": {
      "text/html": [
       "<div>\n",
       "<style scoped>\n",
       "    .dataframe tbody tr th:only-of-type {\n",
       "        vertical-align: middle;\n",
       "    }\n",
       "\n",
       "    .dataframe tbody tr th {\n",
       "        vertical-align: top;\n",
       "    }\n",
       "\n",
       "    .dataframe thead th {\n",
       "        text-align: right;\n",
       "    }\n",
       "</style>\n",
       "<table border=\"1\" class=\"dataframe\">\n",
       "  <thead>\n",
       "    <tr style=\"text-align: right;\">\n",
       "      <th></th>\n",
       "      <th>difficulty</th>\n",
       "      <th>pooledtx</th>\n",
       "      <th>chain</th>\n",
       "      <th>hashps</th>\n",
       "    </tr>\n",
       "  </thead>\n",
       "  <tbody>\n",
       "    <tr>\n",
       "      <th>0</th>\n",
       "      <td>27692567959233</td>\n",
       "      <td>17030</td>\n",
       "      <td>main</td>\n",
       "      <td>207161672195670310912</td>\n",
       "    </tr>\n",
       "  </tbody>\n",
       "</table>\n",
       "</div>"
      ],
      "text/plain": [
       "       difficulty pooledtx chain                 hashps\n",
       "0  27692567959233    17030  main  207161672195670310912"
      ]
     },
     "execution_count": 17,
     "metadata": {},
     "output_type": "execute_result"
    }
   ],
   "source": [
    "hashps = pd.read_csv(\"csv/hashps.csv\")\n",
    "hashps = hashps.values[0,1]\n",
    "hashps = int(hashps)\n",
    "\n",
    "mining['hashps'] = hashps\n",
    "\n",
    "mining"
   ]
  },
  {
   "cell_type": "code",
   "execution_count": 18,
   "metadata": {},
   "outputs": [
    {
     "data": {
      "text/html": [
       "<div>\n",
       "<style scoped>\n",
       "    .dataframe tbody tr th:only-of-type {\n",
       "        vertical-align: middle;\n",
       "    }\n",
       "\n",
       "    .dataframe tbody tr th {\n",
       "        vertical-align: top;\n",
       "    }\n",
       "\n",
       "    .dataframe thead th {\n",
       "        text-align: right;\n",
       "    }\n",
       "</style>\n",
       "<table border=\"1\" class=\"dataframe\">\n",
       "  <thead>\n",
       "    <tr style=\"text-align: right;\">\n",
       "      <th></th>\n",
       "      <th>0</th>\n",
       "    </tr>\n",
       "  </thead>\n",
       "  <tbody>\n",
       "    <tr>\n",
       "      <th>2</th>\n",
       "      <td>\"size\": 17032,\\n</td>\n",
       "    </tr>\n",
       "    <tr>\n",
       "      <th>3</th>\n",
       "      <td>\"bytes\": 8598075,\\n</td>\n",
       "    </tr>\n",
       "    <tr>\n",
       "      <th>4</th>\n",
       "      <td>\"usage\": 41422992,\\n</td>\n",
       "    </tr>\n",
       "    <tr>\n",
       "      <th>5</th>\n",
       "      <td>\"total_fee\": 0.51417954,\\n</td>\n",
       "    </tr>\n",
       "    <tr>\n",
       "      <th>6</th>\n",
       "      <td>\"maxmempool\": 300000000,\\n</td>\n",
       "    </tr>\n",
       "    <tr>\n",
       "      <th>7</th>\n",
       "      <td>\"mempoolminfee\": 0.00001000,\\n</td>\n",
       "    </tr>\n",
       "  </tbody>\n",
       "</table>\n",
       "</div>"
      ],
      "text/plain": [
       "                                  0\n",
       "2                  \"size\": 17032,\\n\n",
       "3               \"bytes\": 8598075,\\n\n",
       "4              \"usage\": 41422992,\\n\n",
       "5        \"total_fee\": 0.51417954,\\n\n",
       "6        \"maxmempool\": 300000000,\\n\n",
       "7    \"mempoolminfee\": 0.00001000,\\n"
      ]
     },
     "execution_count": 18,
     "metadata": {},
     "output_type": "execute_result"
    }
   ],
   "source": [
    "mempool = pd.read_csv(\"csv/mempool.csv\")\n",
    "mempool = mempool.iloc[2:8 , 1:]\n",
    "mempool"
   ]
  },
  {
   "cell_type": "code",
   "execution_count": 19,
   "metadata": {},
   "outputs": [],
   "source": [
    "mempool = mempool.transpose()\n",
    "\n",
    "mempool.columns = ['size', 'bytes', 'usage', 'total_fee', 'maxmempool', 'mempoolminfee']\n",
    "\n",
    "mempool[\"size\"] = mempool[\"size\"].str.extract('(\\d+)', expand=False)\n",
    "mempool[\"bytes\"] = mempool[\"bytes\"].str.extract('(\\d+)', expand=False)\n",
    "mempool[\"usage\"] = mempool[\"usage\"].str.extract('(\\d+)', expand=False)\n",
    "\n",
    "mempool[\"total_fee\"] = mempool[\"total_fee\"].str.extract('(\\d+\\.\\d*)', expand=False)\n",
    "mempool[\"maxmempool\"] = mempool[\"maxmempool\"].str.extract('(\\d+)', expand=False)\n",
    "\n",
    "mempool[\"mempoolminfee\"] = mempool[\"mempoolminfee\"].str.extract('(\\d+\\.\\d*)', expand=False)\n"
   ]
  },
  {
   "cell_type": "code",
   "execution_count": 20,
   "metadata": {},
   "outputs": [
    {
     "data": {
      "text/html": [
       "<div>\n",
       "<style scoped>\n",
       "    .dataframe tbody tr th:only-of-type {\n",
       "        vertical-align: middle;\n",
       "    }\n",
       "\n",
       "    .dataframe tbody tr th {\n",
       "        vertical-align: top;\n",
       "    }\n",
       "\n",
       "    .dataframe thead th {\n",
       "        text-align: right;\n",
       "    }\n",
       "</style>\n",
       "<table border=\"1\" class=\"dataframe\">\n",
       "  <thead>\n",
       "    <tr style=\"text-align: right;\">\n",
       "      <th></th>\n",
       "      <th>size</th>\n",
       "      <th>bytes</th>\n",
       "      <th>usage</th>\n",
       "      <th>total_fee</th>\n",
       "      <th>maxmempool</th>\n",
       "      <th>mempoolminfee</th>\n",
       "    </tr>\n",
       "  </thead>\n",
       "  <tbody>\n",
       "    <tr>\n",
       "      <th>0</th>\n",
       "      <td>17032</td>\n",
       "      <td>8598075</td>\n",
       "      <td>41422992</td>\n",
       "      <td>0.51417954</td>\n",
       "      <td>300000000</td>\n",
       "      <td>0.00001000</td>\n",
       "    </tr>\n",
       "  </tbody>\n",
       "</table>\n",
       "</div>"
      ],
      "text/plain": [
       "    size    bytes     usage   total_fee maxmempool mempoolminfee\n",
       "0  17032  8598075  41422992  0.51417954  300000000    0.00001000"
      ]
     },
     "execution_count": 20,
     "metadata": {},
     "output_type": "execute_result"
    }
   ],
   "source": [
    "mempool"
   ]
  },
  {
   "cell_type": "code",
   "execution_count": 34,
   "metadata": {},
   "outputs": [],
   "source": [
    "btc_data = [supply, chain_stats, mining, mempool]\n",
    "result = pd.concat(btc_data, axis=1)\n",
    "result = result.transpose()\n",
    "result.to_csv(\"csv/data_clean.csv\")\n",
    "result.to_excel(\"csv/data_clean.xlsx\")"
   ]
  },
  {
   "cell_type": "code",
   "execution_count": null,
   "metadata": {},
   "outputs": [],
   "source": []
  }
 ],
 "metadata": {
  "kernelspec": {
   "display_name": "Python 3",
   "language": "python",
   "name": "python3"
  },
  "language_info": {
   "codemirror_mode": {
    "name": "ipython",
    "version": 3
   },
   "file_extension": ".py",
   "mimetype": "text/x-python",
   "name": "python",
   "nbconvert_exporter": "python",
   "pygments_lexer": "ipython3",
   "version": "3.8.5"
  }
 },
 "nbformat": 4,
 "nbformat_minor": 4
}
